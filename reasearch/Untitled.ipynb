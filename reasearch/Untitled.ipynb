{
 "cells": [
  {
   "cell_type": "code",
   "execution_count": 9,
   "metadata": {},
   "outputs": [],
   "source": [
    "import re"
   ]
  },
  {
   "cell_type": "code",
   "execution_count": 10,
   "metadata": {},
   "outputs": [],
   "source": [
    "e = \"😀😁😂🤣😃😄😅😆😉😊😋😎😍😘🥰😗😙😚☺️🙂🤗🤩🤔🤨😐😑😶🙄😏😣😥😮🤐 😯 😪 😫 😴 😌 😛 😜 😝 🤤 😒 😓 😔 😕 🙃 🤑 😲 ☹️ 🙁 😖 😞 😟 😤 😢 😭 😦 😧 😨 😩 🤯 😬 😰 😱 🥵 🥶 😳 🤪 😵 😡 😠 🤬 😷 🤒 🤕 🤢 🤮 🤧 😇 🤠 🤡 🥳 🥴 🥺 🤥 🤫 🤭 🧐 🤓 😈 👿 👹 👺 💀 👻 👽 🤖 💩 😺 😸 😹 😻 😼 😽 🙀 😿 😾\""
   ]
  },
  {
   "cell_type": "code",
   "execution_count": 12,
   "metadata": {},
   "outputs": [
    {
     "data": {
      "text/plain": [
       "'😀😁😂🤣😃😄😅😆😉😊😋😎😍😘🥰😗😙😚☺️🙂🤗🤩🤔🤨😐😑😶🙄😏😣😥😮🤐😯😪😫😴😌😛😜😝🤤😒😓😔😕🙃🤑😲☹️🙁😖😞😟😤😢😭😦😧😨😩🤯😬😰😱🥵🥶😳🤪😵😡😠🤬😷🤒🤕🤢🤮🤧😇🤠🤡🥳🥴🥺🤥🤫🤭🧐🤓😈👿👹👺💀👻👽🤖💩😺😸😹😻😼😽🙀😿😾'"
      ]
     },
     "execution_count": 12,
     "metadata": {},
     "output_type": "execute_result"
    }
   ],
   "source": [
    "f = re.sub(r\"\\s+\", \"\", e)\n",
    "f"
   ]
  },
  {
   "cell_type": "code",
   "execution_count": 15,
   "metadata": {},
   "outputs": [],
   "source": [
    "g = []\n",
    "for i in f:\n",
    "    g.append(i +\" or \")\n",
    "    "
   ]
  },
  {
   "cell_type": "code",
   "execution_count": 19,
   "metadata": {},
   "outputs": [
    {
     "data": {
      "text/plain": [
       "'😀 or 😁 or 😂 or 🤣 or 😃 or 😄 or 😅 or 😆 or 😉 or 😊 or 😋 or 😎 or 😍 or 😘 or 🥰 or 😗 or 😙 or 😚 or ☺ or ️ or 🙂 or 🤗 or 🤩 or 🤔 or 🤨 or 😐 or 😑 or 😶 or 🙄 or 😏 or 😣 or 😥 or 😮 or 🤐 or 😯 or 😪 or 😫 or 😴 or 😌 or 😛 or 😜 or 😝 or 🤤 or 😒 or 😓 or 😔 or 😕 or 🙃 or 🤑 or 😲 or ☹ or ️ or 🙁 or 😖 or 😞 or 😟 or 😤 or 😢 or 😭 or 😦 or 😧 or 😨 or 😩 or 🤯 or 😬 or 😰 or 😱 or 🥵 or 🥶 or 😳 or 🤪 or 😵 or 😡 or 😠 or 🤬 or 😷 or 🤒 or 🤕 or 🤢 or 🤮 or 🤧 or 😇 or 🤠 or 🤡 or 🥳 or 🥴 or 🥺 or 🤥 or 🤫 or 🤭 or 🧐 or 🤓 or 😈 or 👿 or 👹 or 👺 or 💀 or 👻 or 👽 or 🤖 or 💩 or 😺 or 😸 or 😹 or 😻 or 😼 or 😽 or 🙀 or 😿 or 😾 or '"
      ]
     },
     "execution_count": 19,
     "metadata": {},
     "output_type": "execute_result"
    }
   ],
   "source": [
    "\"\".join(g)"
   ]
  },
  {
   "cell_type": "code",
   "execution_count": 21,
   "metadata": {},
   "outputs": [],
   "source": [
    "h = \"😀 or 😁 or 😂 or 🤣 or 😃 or 😄 or 😅 or 😆 or 😉 or 😊 or 😋 or 😎 or 😍 or 😘 or 🥰 or 😗 or 😙 or 😚 or ☺️ or 🙂 or 🤗 or 🤩 or 🤔 or 🤨 or 😐 or 😑 or 😶 or 🙄 or 😏 or 😣 or 😥 or 😮 or 🤐 or 😯 or 😪 or 😫 or 😴 or 😌 or 😛 or 😜 or 😝 or 🤤 or 😒 or 😓 or 😔 or 😕 or 🙃 or 🤑 or 😲 or ☹ or ️ or 🙁 or 😖 or 😞 or 😟 or 😤 or 😢 or 😭 or 😦 or 😧 or 😨 or 😩 or 🤯 or 😬 or 😰 or 😱 or 🥵 or 🥶 or 😳 or 🤪 or 😵 or 😡 or 😠 or 🤬 or 😷 or 🤒 or 🤕 or 🤢 or 🤮 or 🤧 or 😇 or 🤠 or 🤡 or 🥳 or 🥴 or 🥺 or 🤥 or 🤫 or 🤭 or 🧐 or 🤓 or 😈 or 👿 or 👹 or 👺 or 💀 or 👻 or 👽 or 🤖 or 💩 or 😺 or 😸 or 😹 or 😻 or 😼 or 😽 or 🙀 or 😿 or 😾\""
   ]
  },
  {
   "cell_type": "code",
   "execution_count": 23,
   "metadata": {},
   "outputs": [],
   "source": [
    "q = h.replace(\"or\", \"OR\")"
   ]
  },
  {
   "cell_type": "code",
   "execution_count": 24,
   "metadata": {},
   "outputs": [
    {
     "data": {
      "text/plain": [
       "'😀 OR 😁 OR 😂 OR 🤣 OR 😃 OR 😄 OR 😅 OR 😆 OR 😉 OR 😊 OR 😋 OR 😎 OR 😍 OR 😘 OR 🥰 OR 😗 OR 😙 OR 😚 OR ☺️ OR 🙂 OR 🤗 OR 🤩 OR 🤔 OR 🤨 OR 😐 OR 😑 OR 😶 OR 🙄 OR 😏 OR 😣 OR 😥 OR 😮 OR 🤐 OR 😯 OR 😪 OR 😫 OR 😴 OR 😌 OR 😛 OR 😜 OR 😝 OR 🤤 OR 😒 OR 😓 OR 😔 OR 😕 OR 🙃 OR 🤑 OR 😲 OR ☹ OR ️ OR 🙁 OR 😖 OR 😞 OR 😟 OR 😤 OR 😢 OR 😭 OR 😦 OR 😧 OR 😨 OR 😩 OR 🤯 OR 😬 OR 😰 OR 😱 OR 🥵 OR 🥶 OR 😳 OR 🤪 OR 😵 OR 😡 OR 😠 OR 🤬 OR 😷 OR 🤒 OR 🤕 OR 🤢 OR 🤮 OR 🤧 OR 😇 OR 🤠 OR 🤡 OR 🥳 OR 🥴 OR 🥺 OR 🤥 OR 🤫 OR 🤭 OR 🧐 OR 🤓 OR 😈 OR 👿 OR 👹 OR 👺 OR 💀 OR 👻 OR 👽 OR 🤖 OR 💩 OR 😺 OR 😸 OR 😹 OR 😻 OR 😼 OR 😽 OR 🙀 OR 😿 OR 😾'"
      ]
     },
     "execution_count": 24,
     "metadata": {},
     "output_type": "execute_result"
    }
   ],
   "source": [
    "q"
   ]
  },
  {
   "cell_type": "code",
   "execution_count": null,
   "metadata": {},
   "outputs": [],
   "source": []
  }
 ],
 "metadata": {
  "kernelspec": {
   "display_name": "Python 3",
   "language": "python",
   "name": "python3"
  },
  "language_info": {
   "codemirror_mode": {
    "name": "ipython",
    "version": 3
   },
   "file_extension": ".py",
   "mimetype": "text/x-python",
   "name": "python",
   "nbconvert_exporter": "python",
   "pygments_lexer": "ipython3",
   "version": "3.8.2"
  }
 },
 "nbformat": 4,
 "nbformat_minor": 4
}
